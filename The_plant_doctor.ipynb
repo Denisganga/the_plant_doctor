{
  "cells": [
    {
      "cell_type": "markdown",
      "metadata": {
        "id": "view-in-github",
        "colab_type": "text"
      },
      "source": [
        "<a href=\"https://colab.research.google.com/github/Denisganga/the_plant_doctor/blob/main/The_plant_doctor.ipynb\" target=\"_parent\"><img src=\"https://colab.research.google.com/assets/colab-badge.svg\" alt=\"Open In Colab\"/></a>"
      ]
    },
    {
      "cell_type": "code",
      "execution_count": 43,
      "metadata": {
        "colab": {
          "base_uri": "https://localhost:8080/"
        },
        "id": "U-n5AmNC1tR8",
        "outputId": "34bc7c61-8748-4d93-c6d7-4e8423948b74"
      },
      "outputs": [
        {
          "output_type": "stream",
          "name": "stdout",
          "text": [
            "Drive already mounted at /content/drive; to attempt to forcibly remount, call drive.mount(\"/content/drive\", force_remount=True).\n"
          ]
        }
      ],
      "source": [
        "\n",
        "#importing the required modules\n",
        "import torch\n",
        "import torch.nn as nn\n",
        "import matplotlib.pyplot as plt\n",
        "from google.colab import drive\n",
        "drive.mount('/content/drive')\n",
        "import torchvision.transforms as transforms"
      ]
    },
    {
      "cell_type": "code",
      "execution_count": 44,
      "metadata": {
        "id": "ax5pfN_yLI7I"
      },
      "outputs": [],
      "source": [
        "from torchvision import datasets\n",
        "from torch.utils.data import random_split\n",
        "import numpy as np\n",
        "import random"
      ]
    },
    {
      "cell_type": "code",
      "execution_count": 45,
      "metadata": {
        "id": "5vHRM7_t1brl"
      },
      "outputs": [],
      "source": [
        "#unzipping my dataset\n",
        "import zipfile\n",
        "\n",
        "zip_file_path =  \"/content/drive/My Drive/the_plant_doctor/archive.zip\"\n",
        "extract_path = \"/content/dataset\"\n",
        "\n",
        "with zipfile.ZipFile(zip_file_path, 'r') as zip_ref:\n",
        "  zip_ref.extractall(extract_path)"
      ]
    },
    {
      "cell_type": "code",
      "execution_count": 46,
      "metadata": {
        "id": "DaLpY3ptLv5m"
      },
      "outputs": [],
      "source": [
        "# Define the data directory (the path where your unzipped dataset is located)\n",
        "data_dir=\"/content/dataset\""
      ]
    },
    {
      "cell_type": "code",
      "execution_count": 47,
      "metadata": {
        "id": "0oSWPrwh8g8o",
        "colab": {
          "base_uri": "https://localhost:8080/",
          "height": 35
        },
        "outputId": "3bd9e1de-ad77-446b-ecff-76e13e418215"
      },
      "outputs": [
        {
          "output_type": "execute_result",
          "data": {
            "text/plain": [
              "'cpu'"
            ],
            "application/vnd.google.colaboratory.intrinsic+json": {
              "type": "string"
            }
          },
          "metadata": {},
          "execution_count": 47
        }
      ],
      "source": [
        "#setup device agnostic code(using the GPU if available)\n",
        "device = \"cuda\" if torch.cuda.is_available() else \"cpu\"\n",
        "device"
      ]
    },
    {
      "cell_type": "code",
      "execution_count": 48,
      "metadata": {
        "id": "wLb8OHb77iVN"
      },
      "outputs": [],
      "source": [
        "#define the transformations\n",
        "data_transforms =transforms.Compose([\n",
        "    #make the model more robust to differently oriented images.\n",
        "    transforms.RandomRotation(degrees=15),\n",
        "\n",
        "    #random cropping of images to create multiple views of the same image\n",
        "    transforms.RandomCrop(size=(224,224), padding=10),\n",
        "\n",
        "    #Apply random color transformations to the images to make the model more invariant to changes in lighting and color\n",
        "    transforms.ColorJitter(brightness=0.2, contrast=0.2, saturation=0.2,hue=0.2),\n",
        "\n",
        "    #help the model focus on important features and reduce noise\n",
        "    transforms.GaussianBlur(kernel_size=3),\n",
        "\n",
        "    #resize and crop the image to create variations in the field of view.\n",
        "    transforms.RandomResizedCrop(size=(224,224), scale=(0.8, 1.0)),\n",
        "\n",
        "    #introduce controlled occlusions or \"erasing\" of parts of the image during training\n",
        "    transforms.RandomErasing(),\n",
        "\n",
        "    #Randomly flip the image horizontally\n",
        "    transforms.RandomHorizontalFlip(),\n",
        "\n",
        "    #Convert the image to a PyTorch tensor\n",
        "    transforms.ToTensor(),\n",
        "\n",
        "     # Normalize the image based on typical RGB mean and standard deviation\n",
        "    transforms.Normalize(mean=[0.485, 0.456, 0.406], std=[0.229, 0.224, 0.225])\n",
        "\n",
        "\n",
        "\n",
        "])"
      ]
    },
    {
      "cell_type": "code",
      "execution_count": 49,
      "metadata": {
        "id": "vb3gkgEjIwEo"
      },
      "outputs": [],
      "source": [
        "#create a dataset using ImageFolder\n",
        "dataset= datasets.ImageFolder(data_dir, transform=data_transforms)"
      ]
    },
    {
      "cell_type": "code",
      "execution_count": 50,
      "metadata": {
        "id": "m1ioGFcjNpvu"
      },
      "outputs": [],
      "source": [
        "# Define class labels based on the dataset structure\n",
        "classes = dataset.classes"
      ]
    },
    {
      "cell_type": "code",
      "execution_count": 51,
      "metadata": {
        "id": "2vJkMe3VONnB"
      },
      "outputs": [],
      "source": [
        "#splitting the dataset into training and testing sets\n",
        "train_size = int(0.8*len(dataset))\n",
        "test_size = len(dataset) - train_size\n",
        "train_dataset, test_dataset = random_split(dataset,[train_size, test_size])"
      ]
    },
    {
      "cell_type": "code",
      "execution_count": 52,
      "metadata": {
        "colab": {
          "base_uri": "https://localhost:8080/"
        },
        "id": "nZlllHyzQMvw",
        "outputId": "da475294-1d80-4dde-973c-4184c5d616de"
      },
      "outputs": [
        {
          "output_type": "stream",
          "name": "stdout",
          "text": [
            "41276\n",
            "33020\n",
            "8256\n"
          ]
        }
      ],
      "source": [
        "print(len(dataset))\n",
        "print(len(train_dataset))\n",
        "print(len(test_dataset))"
      ]
    },
    {
      "cell_type": "code",
      "source": [
        "image, label = train_dataset[0]\n",
        "image, label"
      ],
      "metadata": {
        "colab": {
          "base_uri": "https://localhost:8080/"
        },
        "id": "dalL7mqvTIWA",
        "outputId": "1bb9adf6-ce92-461b-f788-bdd83ca4696d"
      },
      "execution_count": 75,
      "outputs": [
        {
          "output_type": "execute_result",
          "data": {
            "text/plain": [
              "(tensor([[[1.6495, 1.6667, 1.6838,  ..., 0.7591, 0.8276, 0.7933],\n",
              "          [1.6667, 1.6667, 1.6667,  ..., 0.7933, 0.8961, 0.9132],\n",
              "          [1.6495, 1.6495, 1.6324,  ..., 0.8961, 1.0331, 1.0673],\n",
              "          ...,\n",
              "          [1.2214, 1.1015, 0.9817,  ..., 0.7762, 0.7762, 0.7933],\n",
              "          [1.0331, 0.9303, 0.8961,  ..., 0.8276, 0.7419, 0.7248],\n",
              "          [0.8789, 0.8618, 0.8961,  ..., 0.8618, 0.7419, 0.6221]],\n",
              " \n",
              "         [[1.9384, 1.9559, 1.9734,  ..., 0.8354, 0.9230, 0.9230],\n",
              "          [1.9559, 1.9734, 1.9559,  ..., 0.8529, 0.9755, 1.0280],\n",
              "          [1.9384, 1.9384, 1.9384,  ..., 0.9580, 1.1155, 1.2031],\n",
              "          ...,\n",
              "          [1.1331, 0.9580, 0.8004,  ..., 1.0280, 1.0280, 1.0455],\n",
              "          [0.8179, 0.7129, 0.6429,  ..., 1.0805, 0.9930, 0.9755],\n",
              "          [0.5903, 0.5553, 0.5728,  ..., 1.1155, 0.9930, 0.8880]],\n",
              " \n",
              "         [[2.2217, 2.2391, 2.2566,  ..., 0.5659, 0.7054, 0.7751],\n",
              "          [2.2391, 2.2391, 2.2391,  ..., 0.6008, 0.7576, 0.8797],\n",
              "          [2.2217, 2.2217, 2.2043,  ..., 0.6879, 0.8797, 1.0365],\n",
              "          ...,\n",
              "          [1.1411, 0.9494, 0.7402,  ..., 1.3502, 1.3502, 1.3677],\n",
              "          [0.7576, 0.6008, 0.5136,  ..., 1.4025, 1.3154, 1.2980],\n",
              "          [0.4439, 0.3742, 0.3568,  ..., 1.4374, 1.3154, 1.2108]]]),\n",
              " 1)"
            ]
          },
          "metadata": {},
          "execution_count": 75
        }
      ]
    },
    {
      "cell_type": "code",
      "source": [
        "image.shape"
      ],
      "metadata": {
        "colab": {
          "base_uri": "https://localhost:8080/"
        },
        "id": "SXxB0Ja0UZf1",
        "outputId": "ce94d6bd-270e-4785-dd72-40f457b9df6d"
      },
      "execution_count": 76,
      "outputs": [
        {
          "output_type": "execute_result",
          "data": {
            "text/plain": [
              "torch.Size([3, 224, 224])"
            ]
          },
          "metadata": {},
          "execution_count": 76
        }
      ]
    },
    {
      "cell_type": "code",
      "source": [
        "# See classes\n",
        "class_names = dataset.classes\n",
        "\n",
        "class_names"
      ],
      "metadata": {
        "colab": {
          "base_uri": "https://localhost:8080/"
        },
        "id": "Mm8jQu_RUo_V",
        "outputId": "c6c3ab8c-1ad4-410b-ad7e-bff21e7a390c"
      },
      "execution_count": 87,
      "outputs": [
        {
          "output_type": "execute_result",
          "data": {
            "text/plain": [
              "['PlantVillage', 'plantvillage']"
            ]
          },
          "metadata": {},
          "execution_count": 87
        }
      ]
    },
    {
      "cell_type": "code",
      "source": [
        "\n",
        "#contents of plantvillages and PlantVillages directories\n",
        "import os\n",
        "\n",
        "# Define the paths to the \"PlantVillage\" and \"plantvillage\" directories\n",
        "plant_village_path = os.path.join(data_dir, \"PlantVillage\")\n",
        "plant_village_lower_path = os.path.join(data_dir, \"plantvillage\")\n",
        "\n",
        "# List the subdirectories within \"PlantVillage\"\n",
        "plant_village_classes = os.listdir(plant_village_path)\n",
        "\n",
        "# List the subdirectories within \"plantvillage\"\n",
        "plant_village_lower_classes = os.listdir(plant_village_lower_path)\n",
        "\n",
        "print(\"Classes in 'PlantVillage':\", plant_village_classes)\n",
        "print(\"Classes in 'plantvillage':\", plant_village_lower_classes)\n"
      ],
      "metadata": {
        "colab": {
          "base_uri": "https://localhost:8080/"
        },
        "id": "6XpO6ywkacbb",
        "outputId": "315cd323-7d0b-4ff5-eb05-ba41a74f27f5"
      },
      "execution_count": 101,
      "outputs": [
        {
          "output_type": "stream",
          "name": "stdout",
          "text": [
            "Classes in 'PlantVillage': ['Tomato_Early_blight', 'Tomato_Bacterial_spot', 'Tomato_Leaf_Mold', 'Potato___Early_blight', 'Tomato_Spider_mites_Two_spotted_spider_mite', 'Tomato__Target_Spot', 'Tomato_healthy', 'Tomato__Tomato_YellowLeaf__Curl_Virus', 'Tomato__Tomato_mosaic_virus', 'Pepper__bell___healthy', 'Tomato_Late_blight', 'Potato___healthy', 'Pepper__bell___Bacterial_spot', 'Tomato_Septoria_leaf_spot', 'Potato___Late_blight']\n",
            "Classes in 'plantvillage': ['PlantVillage']\n"
          ]
        }
      ]
    },
    {
      "cell_type": "code",
      "execution_count": 54,
      "metadata": {
        "id": "RwPjdE7XQx-9"
      },
      "outputs": [],
      "source": [
        "#create a Dataloader for efficient dataloading and batch\n",
        "batch_size = 7\n",
        "data_loader = torch.utils.data.DataLoader(dataset, batch_size=batch_size, shuffle=True)\n",
        "num_samples = len(dataset)"
      ]
    },
    {
      "cell_type": "code",
      "source": [
        "import os\n",
        "from PIL import Image\n",
        "import matplotlib.pyplot as plt\n",
        "import random\n",
        "\n",
        "# Define the path to the \"plantvillage\" directory\n",
        "plant_village_path = os.path.join(data_dir, \"plantvillage\", \"train\")\n",
        "\n",
        "# List the subdirectories (class labels) within \"plantvillage\"\n",
        "class_labels = os.listdir(plant_village_path)\n",
        "\n",
        "# Create a 3x4 grid to display random images\n",
        "num_rows = 3\n",
        "num_cols = 4\n",
        "fig, axes = plt.subplots(num_rows, num_cols, figsize=(12, 8))\n",
        "\n",
        "for i, label in enumerate(class_labels):\n",
        "    # Find a random image within the class directory\n",
        "    class_dir = os.path.join(plant_village_path, label)\n",
        "    image_files = os.listdir(class_dir)\n",
        "    random_image_file = os.path.join(class_dir, random.choice(image_files))\n",
        "    random_image = Image.open(random_image_file)\n",
        "\n",
        "    # Plot the image\n",
        "    row = i // num_cols\n",
        "    col = i % num_cols\n",
        "    axes[row, col].imshow(random_image)\n",
        "    axes[row, col].set_title(label)\n",
        "    axes[row, col].axis('off')\n",
        "\n",
        "plt.tight_layout()\n",
        "plt.show()\n"
      ],
      "metadata": {
        "colab": {
          "base_uri": "https://localhost:8080/",
          "height": 251
        },
        "id": "vWobKG4XALi8",
        "outputId": "4f947214-0082-4f83-d0c0-fff4caa75c4f"
      },
      "execution_count": 104,
      "outputs": [
        {
          "output_type": "error",
          "ename": "FileNotFoundError",
          "evalue": "ignored",
          "traceback": [
            "\u001b[0;31m---------------------------------------------------------------------------\u001b[0m",
            "\u001b[0;31mFileNotFoundError\u001b[0m                         Traceback (most recent call last)",
            "\u001b[0;32m<ipython-input-104-60038dcd07e6>\u001b[0m in \u001b[0;36m<cell line: 10>\u001b[0;34m()\u001b[0m\n\u001b[1;32m      8\u001b[0m \u001b[0;34m\u001b[0m\u001b[0m\n\u001b[1;32m      9\u001b[0m \u001b[0;31m# List the subdirectories (class labels) within \"plantvillage\"\u001b[0m\u001b[0;34m\u001b[0m\u001b[0;34m\u001b[0m\u001b[0m\n\u001b[0;32m---> 10\u001b[0;31m \u001b[0mclass_labels\u001b[0m \u001b[0;34m=\u001b[0m \u001b[0mos\u001b[0m\u001b[0;34m.\u001b[0m\u001b[0mlistdir\u001b[0m\u001b[0;34m(\u001b[0m\u001b[0mplant_village_path\u001b[0m\u001b[0;34m)\u001b[0m\u001b[0;34m\u001b[0m\u001b[0;34m\u001b[0m\u001b[0m\n\u001b[0m\u001b[1;32m     11\u001b[0m \u001b[0;34m\u001b[0m\u001b[0m\n\u001b[1;32m     12\u001b[0m \u001b[0;31m# Create a 3x4 grid to display random images\u001b[0m\u001b[0;34m\u001b[0m\u001b[0;34m\u001b[0m\u001b[0m\n",
            "\u001b[0;31mFileNotFoundError\u001b[0m: [Errno 2] No such file or directory: '/content/dataset/plantVillage/plantvillage/train'"
          ]
        }
      ]
    }
  ],
  "metadata": {
    "colab": {
      "provenance": [],
      "authorship_tag": "ABX9TyOVFMi+ctvWVMkjgyuFrR50",
      "include_colab_link": true
    },
    "kernelspec": {
      "display_name": "Python 3",
      "name": "python3"
    },
    "language_info": {
      "name": "python"
    }
  },
  "nbformat": 4,
  "nbformat_minor": 0
}